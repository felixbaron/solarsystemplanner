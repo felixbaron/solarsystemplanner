{
 "cells": [
  {
   "cell_type": "markdown",
   "id": "88e285f2-c2a8-4e51-87bb-054f623a4bc8",
   "metadata": {},
   "source": [
    "# SolarSystemPlanner\n",
    "\n",
    "SolarSystemPlanner is a Python library that helps you to realize your photovoltaic system and become independent of carbon energy.\n",
    "\n",
    "The steps are outlined as follows:\n",
    "1. Calculate the size of the sytem required\n",
    "1. Roof assessment\n",
    "1. Selection of the solar panel brand\n",
    "1. Selection of inverter\n",
    "1. Check for MSP upgrade\n",
    "1. Circuit breaker selection\n",
    "1. Cable sizing\n",
    "1. Estimate the mechanical requirements\n",
    "1. Buy the items"
   ]
  },
  {
   "cell_type": "code",
   "execution_count": 2,
   "id": "e8202e14-58f9-4f15-83d3-3091f660bea4",
   "metadata": {},
   "outputs": [
    {
     "data": {
      "text/plain": [
       "'hello'"
      ]
     },
     "execution_count": 2,
     "metadata": {},
     "output_type": "execute_result"
    }
   ],
   "source": [
    "from solarsystemplanner import sizer\n",
    "sizer.()"
   ]
  },
  {
   "cell_type": "code",
   "execution_count": null,
   "id": "5082fed7-6a2a-4de4-953b-b10c82bae3bd",
   "metadata": {},
   "outputs": [],
   "source": []
  }
 ],
 "metadata": {
  "kernelspec": {
   "display_name": "Python 3 (ipykernel)",
   "language": "python",
   "name": "python3"
  },
  "language_info": {
   "codemirror_mode": {
    "name": "ipython",
    "version": 3
   },
   "file_extension": ".py",
   "mimetype": "text/x-python",
   "name": "python",
   "nbconvert_exporter": "python",
   "pygments_lexer": "ipython3",
   "version": "3.8.9"
  }
 },
 "nbformat": 4,
 "nbformat_minor": 5
}
