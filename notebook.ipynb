{
 "cells": [
  {
   "cell_type": "markdown",
   "id": "88e285f2-c2a8-4e51-87bb-054f623a4bc8",
   "metadata": {},
   "source": [
    "# SolarSystemPlanner\n",
    "\n",
    "SolarSystemPlanner is a Python library that helps you to realize your photovoltaic system and become independent of carbon energy.\n",
    "\n",
    "The steps are outlined as follows:\n",
    "1. Calculate the size of the sytem required\n",
    "1. Roof assessment\n",
    "1. Selection of the solar panel brand\n",
    "1. Selection of inverter\n",
    "1. Check for MSP upgrade\n",
    "1. Circuit breaker selection\n",
    "1. Cable sizing\n",
    "1. Estimate the mechanical requirements\n",
    "1. Buy the items"
   ]
  },
  {
   "cell_type": "code",
   "execution_count": 1,
   "id": "3dd30bef-20b4-4a41-a7b3-594130153703",
   "metadata": {},
   "outputs": [],
   "source": [
    "from ssp import sizer\n",
    "from ssp import roof_assessment as ra\n",
    "from ssp import inverter as inv"
   ]
  },
  {
   "cell_type": "code",
   "execution_count": 2,
   "id": "e8202e14-58f9-4f15-83d3-3091f660bea4",
   "metadata": {},
   "outputs": [
    {
     "name": "stdout",
     "output_type": "stream",
     "text": [
      "{'system_size': 5870.583226905065, 'kwh_per_day': 15.850574712643677, 'kwh_per_year': 5785.459770114942}\n"
     ]
    }
   ],
   "source": [
    "# Calculate system size, in kwH required p.a.\n",
    "# units in kwH\n",
    "units = 5516\n",
    "start_date = \"2021/4/19\"\n",
    "end_date = \"2022/4/2\"\n",
    "estimate = sizer.estimate(units, start_date, end_date)\n",
    "print(estimate)"
   ]
  },
  {
   "cell_type": "code",
   "execution_count": 5,
   "id": "5082fed7-6a2a-4de4-953b-b10c82bae3bd",
   "metadata": {},
   "outputs": [
    {
     "data": {
      "text/plain": [
       "{'recommended_area': 48.84408258833545, 'maximum_constructible_area': 42.25}"
      ]
     },
     "execution_count": 5,
     "metadata": {},
     "output_type": "execute_result"
    }
   ],
   "source": [
    "# Calculate roof size, in sqm\n",
    "ra.roof_size(estimate[\"system_size\"], (2 * 2), (1.25 * 3), 50)"
   ]
  },
  {
   "cell_type": "code",
   "execution_count": 10,
   "id": "dbade4a0-4b66-47aa-b3e8-36e0dbaa3c8d",
   "metadata": {},
   "outputs": [
    {
     "data": {
      "text/plain": [
       "1.31"
      ]
     },
     "execution_count": 10,
     "metadata": {},
     "output_type": "execute_result"
    }
   ],
   "source": [
    "# Select inverter\n",
    "inv.dc_ac_ratio()"
   ]
  },
  {
   "cell_type": "code",
   "execution_count": 11,
   "id": "6c59d899-7edb-4ec3-9e8b-9dc7d4a17fec",
   "metadata": {},
   "outputs": [],
   "source": [
    "# Check if MSP upgrade is needed\n"
   ]
  },
  {
   "cell_type": "code",
   "execution_count": 12,
   "id": "2bf52c15-e9a2-4ddf-937d-7eb7147858a9",
   "metadata": {},
   "outputs": [],
   "source": [
    "# Select circuit breaker\n"
   ]
  },
  {
   "cell_type": "code",
   "execution_count": 13,
   "id": "8b79ec9d-4ff6-4302-a3b0-fd6a216eaa29",
   "metadata": {},
   "outputs": [],
   "source": [
    "# Choose cable size\n"
   ]
  },
  {
   "cell_type": "code",
   "execution_count": 14,
   "id": "36b6e728-4cf7-4900-956f-3cf209cd7c71",
   "metadata": {},
   "outputs": [],
   "source": [
    "# Draw sketch\n"
   ]
  },
  {
   "cell_type": "code",
   "execution_count": null,
   "id": "c87ace15-9a4f-4ca8-aa34-521a275eaa36",
   "metadata": {},
   "outputs": [],
   "source": [
    "# Buy items\n"
   ]
  }
 ],
 "metadata": {
  "kernelspec": {
   "display_name": "Python 3 (ipykernel)",
   "language": "python",
   "name": "python3"
  },
  "language_info": {
   "codemirror_mode": {
    "name": "ipython",
    "version": 3
   },
   "file_extension": ".py",
   "mimetype": "text/x-python",
   "name": "python",
   "nbconvert_exporter": "python",
   "pygments_lexer": "ipython3",
   "version": "3.8.9"
  }
 },
 "nbformat": 4,
 "nbformat_minor": 5
}
